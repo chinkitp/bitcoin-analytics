{
 "cells": [
  {
   "cell_type": "code",
   "execution_count": 1,
   "metadata": {},
   "outputs": [
    {
     "data": {
      "text/plain": [
       "spark = org.apache.spark.sql.SparkSession@432fb17a\n",
       "sc = org.apache.spark.SparkContext@6c7007c\n"
      ]
     },
     "metadata": {},
     "output_type": "display_data"
    },
    {
     "data": {
      "text/plain": [
       "org.apache.spark.SparkContext@6c7007c"
      ]
     },
     "execution_count": 1,
     "metadata": {},
     "output_type": "execute_result"
    }
   ],
   "source": [
    "val spark = SparkSession\n",
    "  .builder()\n",
    "  .appName(\"Bitcoin SCC\")\n",
    "  .config(\"spark.sql.broadcastTimeout\", 36000)\n",
    "  .config(\"spark.sql.cbo.enabled\", true)\n",
    "  //.config(\"spark.submit.deployMode\", \"cluster\")\n",
    "  .getOrCreate()\n",
    "\n",
    "spark.sparkContext.setCheckpointDir(\"gs://bitcoin-hackathon/spark-checkpoint/\")\n",
    "\n",
    "val sc = spark.sparkContext"
   ]
  },
  {
   "cell_type": "code",
   "execution_count": null,
   "metadata": {},
   "outputs": [],
   "source": [
    "case class Address (Id: String)\n",
    "case class Data(SignedBy_Address: String)\n",
    "case class Spent(Data: Data, Target: String)\n",
    "\n",
    "import spark.implicits._\n",
    "import org.apache.spark.sql._\n",
    "import org.apache.spark.sql.functions.{concat, concat_ws,explode,  typedLit}\n",
    "\n",
    "val addressEncoder = implicitly[Encoder[Address]]\n",
    "val spentEncoder = implicitly[Encoder[Spent]]\n",
    "\n",
    "val addresses = spark.read.schema(addressEncoder.schema).json(\"gs://bitcoin-hackathon/epgm/address/output/part-00000.gz.txt\")\n",
    "val allAddresses = addresses.as[Address]"
   ]
  },
  {
   "cell_type": "code",
   "execution_count": null,
   "metadata": {},
   "outputs": [],
   "source": [
    "val spent = spark.read.schema(spentEncoder.schema).json(\"gs://bitcoin-hackathon/epgm/SPENT/output/part-00000.gz.txt\")\n",
    "            .as[Spent]\n",
    "allAddresses.map(a => (a.Id, spent.filter(s => s.Data.SignedBy_Address = a.Id)))"
   ]
  },
  {
   "cell_type": "code",
   "execution_count": null,
   "metadata": {},
   "outputs": [],
   "source": [
    "import org.graphframes._"
   ]
  },
  {
   "cell_type": "code",
   "execution_count": null,
   "metadata": {},
   "outputs": [],
   "source": [
    "import org.apache.spark.sql._\n",
    "import org.apache.spark.sql.functions._\n",
    "\n",
    "val sqlContext = new org.apache.spark.sql.SQLContext(sc)\n",
    "\n",
    "// \n",
    "val addresses = spark.read.json(\"gs://bitcoin-hackathon/epgm/address/output/part-00000.gz.txt\",\"gs://bitcoin-hackathon/epgm/tx/output/part-00000.gz.txt\")\n",
    "        .select(\"Id\",\"Meta.Label\")\n",
    "        .toDF\n",
    "\n",
    "\n",
    "\n",
    "val spent = sqlContext.read.json(\"gs://bitcoin-hackathon/epgm/SPENT/output/\")\n",
    "spent.filter(\"Data.SignedBy_Address is null\")\n",
    "        .count\n"
   ]
  },
  {
   "cell_type": "code",
   "execution_count": null,
   "metadata": {},
   "outputs": [],
   "source": [
    "val tran = sqlContext.read.json(\"gs://bitcoin-hackathon/epgm/tx/output\")\n",
    "                .filter(\"Id == '55d67c951dff3c5d5ccdeff39f29c9c8b3b2e239f492029c88b2c46e15d8f13f'\")\n",
    "tran.show(1, false)"
   ]
  },
  {
   "cell_type": "code",
   "execution_count": null,
   "metadata": {},
   "outputs": [],
   "source": [
    "val tran = sqlContext.read.json(\"gs://bitcoin-hackathon/epgm/txout/output\")\n",
    "                .filter(\"Id == '55d67c951dff3c5d5ccdeff39f29c9c8b3b2e239f492029c88b2c46e15d8f13f-0'\")\n",
    "tran.show(1, false)"
   ]
  },
  {
   "cell_type": "code",
   "execution_count": null,
   "metadata": {},
   "outputs": [],
   "source": [
    "val locked = sqlContext.read.json(\"gs://bitcoin-hackathon/epgm/LOCKED_AT/output\")\n",
    "                .filter(\"Source == '55d67c951dff3c5d5ccdeff39f29c9c8b3b2e239f492029c88b2c46e15d8f13f-0'\")\n",
    "locked.show(1, false)"
   ]
  },
  {
   "cell_type": "code",
   "execution_count": null,
   "metadata": {},
   "outputs": [],
   "source": [
    "val vertices = spark.read\n",
    "        .json(\n",
    "            \"gs://bitcoin-hackathon/epgm/address/output/\",\n",
    "            \"gs://bitcoin-hackathon/epgm/block/output/\",\n",
    "            \"gs://bitcoin-hackathon/epgm/tx/output/\",\n",
    "            \"gs://bitcoin-hackathon/epgm/txout/output/\")\n",
    "        .select(\"Id\",\"Meta.Label\")\n",
    "        .toDF(\"id\",\"label\")\n",
    "\n",
    "val edges = spark.read\n",
    "        .json(\n",
    "            \"gs://bitcoin-hackathon/epgm/LOCKED_AT/output/\",\n",
    "            \"gs://bitcoin-hackathon/epgm/MINED_IN/output/\",\n",
    "            \"gs://bitcoin-hackathon/epgm/PREVIOUS/output/\",\n",
    "            \"gs://bitcoin-hackathon/epgm/PRODUCED/output/\",\n",
    "            \"gs://bitcoin-hackathon/epgm/SPENT/output/\")\n",
    "        .select(\"Source\", \"Target\", \"Meta.Label\")\n",
    "        .toDF(\"src\",\"dst\",\"relationship\")\n",
    "\n",
    "// Create a GraphFrame\n",
    "import org.graphframes.GraphFrame\n",
    "val bitcoinGraph = GraphFrame(v, e)\n",
    "\n",
    "bitcoinGraph.find(\"(a)<-[l]-(o); (o)-[s]->(t)\")\n",
    "    .filter(\"l.label == 'LOCKED_AT'\")\n",
    "    .filter(\"s.label == 'SPENT'\")\n",
    "    .select(\"l.Target\",\"s.Data.SignedBy_Address\",\"s.Target\")\n",
    "    .toDF(\"a1\",\"a2\",\"t\")\n",
    "    .show(10, false)"
   ]
  },
  {
   "cell_type": "code",
   "execution_count": null,
   "metadata": {},
   "outputs": [],
   "source": []
  },
  {
   "cell_type": "code",
   "execution_count": null,
   "metadata": {},
   "outputs": [],
   "source": []
  },
  {
   "cell_type": "code",
   "execution_count": null,
   "metadata": {},
   "outputs": [],
   "source": [
    "\n",
    "\n",
    "val sqlContext = new org.apache.spark.sql.SQLContext(sc)\n",
    "// import graphframes package\n",
    "import org.graphframes._\n",
    "\n",
    "// Create a Vertex DataFrame with unique ID column \"id\"\n",
    "val v = sqlContext.createDataFrame(List(\n",
    "    (\"a1\", \"Address\"),\n",
    "    (\"a2\", \"Address\"),\n",
    "    (\"a3\", \"Address\"),\n",
    "    (\"a4\", \"Address\"),\n",
    "    (\"a5\", \"Address\"),\n",
    "    (\"a6\", \"Address\"),\n",
    "    (\"a7\", \"Address\"),\n",
    "    (\"a8\", \"Address\"),\n",
    "    (\"t1\", \"Tran\"),\n",
    "    (\"t2\", \"Tran\"),\n",
    "    (\"t3\", \"Tran\"),\n",
    "    (\"t4\", \"Tran\"),\n",
    "    (\"t5\", \"Tran\")\n",
    ")).toDF(\"id\", \"label\")\n",
    "// Create an Edge DataFrame with \"src\" and \"dst\" columns\n",
    "val e = sqlContext.createDataFrame(List(\n",
    "  (\"a1\", \"t1\", \"spent\"),\n",
    "  (\"a2\", \"t1\", \"spent\"),\n",
    "  (\"a3\", \"t2\", \"spent\"),\n",
    "  (\"a1\", \"t2\", \"spent\"),\n",
    "  (\"a4\", \"t2\", \"spent\"),\n",
    "  (\"a5\", \"t3\", \"spent\"),\n",
    "  (\"a7\", \"t3\", \"spent\"),\n",
    "  (\"a6\", \"t4\", \"spent\"),\n",
    "  (\"a7\", \"t5\", \"spent\"),\n",
    "  (\"a8\", \"t5\", \"spent\")\n",
    ")).toDF(\"src\", \"dst\", \"label\")\n",
    "// Create a GraphFrame\n",
    "import org.graphframes.GraphFrame\n",
    "val g = GraphFrame(v, e)\n",
    "\n",
    "val result = g.connectedComponents.run()\n",
    "result.filter(\"label == 'Address'\").select(\"id\", \"component\").orderBy(\"component\").show()"
   ]
  },
  {
   "cell_type": "code",
   "execution_count": null,
   "metadata": {},
   "outputs": [],
   "source": [
    "spark"
   ]
  },
  {
   "cell_type": "code",
   "execution_count": 2,
   "metadata": {},
   "outputs": [
    {
     "data": {
      "text/plain": [
       "sqlContext = org.apache.spark.sql.SQLContext@2be29f1f\n",
       "add_tran_edges = [_c0: string, _c1: string]\n",
       "allAddresses = [id: string, label: string]\n",
       "allTransactions = [id: string, label: string]\n",
       "g_nodes = [id: string, label: string]\n",
       "g_edges = [src: string, dst: string]\n",
       "g_bitcoin_tran_graph = GraphFrame(v:[id: string, label: string], e:[src: string, dst: string])\n"
      ]
     },
     "metadata": {},
     "output_type": "display_data"
    },
    {
     "data": {
      "text/plain": [
       "warning: there were two deprecation warnings; re-run with -deprecation for details\n",
       "b_...\n"
      ]
     },
     "metadata": {},
     "output_type": "display_data"
    },
    {
     "data": {
      "text/plain": [
       "GraphFrame(v:[id: string, label: string], e:[src: string, dst: string])"
      ]
     },
     "execution_count": 2,
     "metadata": {},
     "output_type": "execute_result"
    }
   ],
   "source": [
    "import org.apache.spark.sql._\n",
    "import org.apache.spark.sql.functions._\n",
    "import org.apache.spark.sql.{Dataset, Row, DataFrame, Column, DataFrameWriter, SaveMode}\n",
    "\n",
    "val sqlContext = new org.apache.spark.sql.SQLContext(sc)\n",
    "val add_tran_edges = sqlContext.read.csv(\"gs://bitcoin-hackathon/edges/address_to_transactions/*.gz\")\n",
    "\n",
    "val allAddresses = add_tran_edges\n",
    "        .select(\"_c0\")\n",
    "        .distinct\n",
    "        .withColumn(\"label\",typedLit(\"Address\"))\n",
    "        .toDF(\"id\",\"label\")\n",
    "\n",
    "val allTransactions = add_tran_edges\n",
    "        .select(\"_c1\")\n",
    "        .distinct\n",
    "        .withColumn(\"label\",typedLit(\"Transactions\"))\n",
    "        .toDF(\"id\",\"label\")\n",
    "\n",
    "val g_nodes = allAddresses.unionAll(allTransactions)\n",
    "val g_edges = add_tran_edges.toDF(\"src\",\"dst\")\n",
    "\n",
    "// Create a GraphFrame\n",
    "import org.graphframes.GraphFrame\n",
    "val g_bitcoin_tran_graph = GraphFrame(g_nodes, g_edges)\n",
    "\n",
    "g_bitcoin_tran_graph.vertices.count\n",
    "g_bitcoin_tran_graph.edges.count\n",
    "\n",
    "val b_result = g_bitcoin_tran_graph.connectedComponents.run()\n",
    "b_result.select(\"id\", \"label\", \"component\")\n",
    "    .orderBy(\"component\")\n",
    "    .write\n",
    "    .option(\"compression\",\"gzip\")\n",
    "    .format(\"csv\") \n",
    "    .mode(SaveMode.Overwrite)\n",
    "    .save(\"gs://bitcoin-hackathon/edges/address_cluster/\")"
   ]
  },
  {
   "cell_type": "code",
   "execution_count": 11,
   "metadata": {},
   "outputs": [
    {
     "data": {
      "text/plain": [
       "clusters = [_c0: string, _c1: string ... 1 more field]\n"
      ]
     },
     "metadata": {},
     "output_type": "display_data"
    },
    {
     "data": {
      "text/plain": [
       "639204230"
      ]
     },
     "execution_count": 11,
     "metadata": {},
     "output_type": "execute_result"
    }
   ],
   "source": [
    "var clusters = sqlContext.read.csv(\"gs://bitcoin-hackathon/edges/address_cluster/\")"
   ]
  },
  {
   "cell_type": "code",
   "execution_count": 12,
   "metadata": {},
   "outputs": [
    {
     "data": {
      "text/plain": [
       "639204230"
      ]
     },
     "execution_count": 12,
     "metadata": {},
     "output_type": "execute_result"
    }
   ],
   "source": [
    "g_nodes.count"
   ]
  },
  {
   "cell_type": "code",
   "execution_count": 13,
   "metadata": {},
   "outputs": [
    {
     "data": {
      "text/plain": [
       "741853556"
      ]
     },
     "execution_count": 13,
     "metadata": {},
     "output_type": "execute_result"
    }
   ],
   "source": [
    "g_edges.count"
   ]
  },
  {
   "cell_type": "code",
   "execution_count": 14,
   "metadata": {},
   "outputs": [
    {
     "name": "stdout",
     "output_type": "stream",
     "text": [
      "+-----+--------+\n",
      "|  _c2|   count|\n",
      "+-----+--------+\n",
      "|   61|17838429|\n",
      "|  102|16669982|\n",
      "|    0| 6408688|\n",
      "|  290| 2708379|\n",
      "|   19| 2167701|\n",
      "|51044| 2022072|\n",
      "|  665| 1854454|\n",
      "|  316| 1763323|\n",
      "|   54| 1508485|\n",
      "| 1947| 1217122|\n",
      "|  431| 1033466|\n",
      "|  386|  963054|\n",
      "| 8465|  945670|\n",
      "| 1342|  944787|\n",
      "|   62|  928585|\n",
      "|  486|  893157|\n",
      "| 5936|  883223|\n",
      "| 9912|  873785|\n",
      "| 1199|  857866|\n",
      "| 1226|  847407|\n",
      "+-----+--------+\n",
      "only showing top 20 rows\n",
      "\n"
     ]
    },
    {
     "data": {
      "text/plain": [
       "639204230"
      ]
     },
     "execution_count": 14,
     "metadata": {},
     "output_type": "execute_result"
    }
   ],
   "source": [
    "clusters.groupBy(\"_c2\").count().orderBy(desc(\"count\")).show\n",
    "clusters.select(\"_c0\").distinct.count"
   ]
  },
  {
   "cell_type": "code",
   "execution_count": null,
   "metadata": {},
   "outputs": [],
   "source": []
  }
 ],
 "metadata": {
  "kernelspec": {
   "display_name": "Apache Toree - Scala",
   "language": "scala",
   "name": "apache_toree_scala"
  },
  "language_info": {
   "codemirror_mode": "text/x-scala",
   "file_extension": ".scala",
   "mimetype": "text/x-scala",
   "name": "scala",
   "pygments_lexer": "scala",
   "version": "2.11.8"
  }
 },
 "nbformat": 4,
 "nbformat_minor": 2
}
